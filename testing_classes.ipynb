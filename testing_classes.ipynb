{
 "cells": [
  {
   "cell_type": "code",
   "execution_count": 1,
   "metadata": {},
   "outputs": [],
   "source": [
    "import pandas as pd\n",
    "from functions.openai_functions import OpenAI_Client\n",
    "from functions.db_functions import MySQL, PostGreSQL"
   ]
  },
  {
   "cell_type": "code",
   "execution_count": 2,
   "metadata": {},
   "outputs": [],
   "source": [
    "openai = OpenAI_Client()\n",
    "mysql = MySQL()\n",
    "postgres = PostGreSQL()"
   ]
  },
  {
   "cell_type": "code",
   "execution_count": 3,
   "metadata": {},
   "outputs": [],
   "source": [
    "df = mysql.load_chunk(chunk_size = 20)"
   ]
  },
  {
   "cell_type": "code",
   "execution_count": 4,
   "metadata": {},
   "outputs": [],
   "source": [
    "embeddings = [openai.get_embedding(df.loc[i, 'string_for_embedding']) for i in range(len(df))]"
   ]
  },
  {
   "cell_type": "code",
   "execution_count": 5,
   "metadata": {},
   "outputs": [
    {
     "data": {
      "text/html": [
       "<div>\n",
       "<style scoped>\n",
       "    .dataframe tbody tr th:only-of-type {\n",
       "        vertical-align: middle;\n",
       "    }\n",
       "\n",
       "    .dataframe tbody tr th {\n",
       "        vertical-align: top;\n",
       "    }\n",
       "\n",
       "    .dataframe thead th {\n",
       "        text-align: right;\n",
       "    }\n",
       "</style>\n",
       "<table border=\"1\" class=\"dataframe\">\n",
       "  <thead>\n",
       "    <tr style=\"text-align: right;\">\n",
       "      <th></th>\n",
       "      <th>id</th>\n",
       "      <th>round</th>\n",
       "      <th>clue_value</th>\n",
       "      <th>daily_double_value</th>\n",
       "      <th>category</th>\n",
       "      <th>comments</th>\n",
       "      <th>answer</th>\n",
       "      <th>question</th>\n",
       "      <th>air_date</th>\n",
       "      <th>notes</th>\n",
       "      <th>string_for_embedding</th>\n",
       "      <th>created_at</th>\n",
       "    </tr>\n",
       "  </thead>\n",
       "  <tbody>\n",
       "    <tr>\n",
       "      <th>0</th>\n",
       "      <td>1</td>\n",
       "      <td>1</td>\n",
       "      <td>100</td>\n",
       "      <td>0</td>\n",
       "      <td>LAKES &amp; RIVERS</td>\n",
       "      <td></td>\n",
       "      <td>River mentioned most often in the Bible</td>\n",
       "      <td>the Jordan</td>\n",
       "      <td>1984-09-10</td>\n",
       "      <td></td>\n",
       "      <td>In round 1, with a value of 100, a daily doubl...</td>\n",
       "      <td>2025-05-01 18:17:12</td>\n",
       "    </tr>\n",
       "    <tr>\n",
       "      <th>1</th>\n",
       "      <td>2</td>\n",
       "      <td>1</td>\n",
       "      <td>200</td>\n",
       "      <td>0</td>\n",
       "      <td>LAKES &amp; RIVERS</td>\n",
       "      <td></td>\n",
       "      <td>Scottish word for lake</td>\n",
       "      <td>loch</td>\n",
       "      <td>1984-09-10</td>\n",
       "      <td></td>\n",
       "      <td>In round 1, with a value of 200, a daily doubl...</td>\n",
       "      <td>2025-05-01 18:17:12</td>\n",
       "    </tr>\n",
       "    <tr>\n",
       "      <th>2</th>\n",
       "      <td>3</td>\n",
       "      <td>1</td>\n",
       "      <td>400</td>\n",
       "      <td>0</td>\n",
       "      <td>LAKES &amp; RIVERS</td>\n",
       "      <td></td>\n",
       "      <td>American river only 33 miles shorter than the ...</td>\n",
       "      <td>the Missouri</td>\n",
       "      <td>1984-09-10</td>\n",
       "      <td></td>\n",
       "      <td>In round 1, with a value of 400, a daily doubl...</td>\n",
       "      <td>2025-05-01 18:17:12</td>\n",
       "    </tr>\n",
       "    <tr>\n",
       "      <th>3</th>\n",
       "      <td>4</td>\n",
       "      <td>1</td>\n",
       "      <td>500</td>\n",
       "      <td>0</td>\n",
       "      <td>LAKES &amp; RIVERS</td>\n",
       "      <td></td>\n",
       "      <td>Worlds largest lake, nearly 5 times as big as ...</td>\n",
       "      <td>the Caspian Sea</td>\n",
       "      <td>1984-09-10</td>\n",
       "      <td></td>\n",
       "      <td>In round 1, with a value of 500, a daily doubl...</td>\n",
       "      <td>2025-05-01 18:17:12</td>\n",
       "    </tr>\n",
       "    <tr>\n",
       "      <th>4</th>\n",
       "      <td>5</td>\n",
       "      <td>1</td>\n",
       "      <td>100</td>\n",
       "      <td>0</td>\n",
       "      <td>INVENTIONS</td>\n",
       "      <td></td>\n",
       "      <td>Marconis wonderful wireless</td>\n",
       "      <td>a radio</td>\n",
       "      <td>1984-09-10</td>\n",
       "      <td></td>\n",
       "      <td>In round 1, with a value of 100, a daily doubl...</td>\n",
       "      <td>2025-05-01 18:17:12</td>\n",
       "    </tr>\n",
       "  </tbody>\n",
       "</table>\n",
       "</div>"
      ],
      "text/plain": [
       "   id round clue_value daily_double_value        category comments  \\\n",
       "0   1     1        100                  0  LAKES & RIVERS            \n",
       "1   2     1        200                  0  LAKES & RIVERS            \n",
       "2   3     1        400                  0  LAKES & RIVERS            \n",
       "3   4     1        500                  0  LAKES & RIVERS            \n",
       "4   5     1        100                  0      INVENTIONS            \n",
       "\n",
       "                                              answer         question  \\\n",
       "0            River mentioned most often in the Bible       the Jordan   \n",
       "1                             Scottish word for lake             loch   \n",
       "2  American river only 33 miles shorter than the ...     the Missouri   \n",
       "3  Worlds largest lake, nearly 5 times as big as ...  the Caspian Sea   \n",
       "4                        Marconis wonderful wireless          a radio   \n",
       "\n",
       "     air_date notes                               string_for_embedding  \\\n",
       "0  1984-09-10        In round 1, with a value of 100, a daily doubl...   \n",
       "1  1984-09-10        In round 1, with a value of 200, a daily doubl...   \n",
       "2  1984-09-10        In round 1, with a value of 400, a daily doubl...   \n",
       "3  1984-09-10        In round 1, with a value of 500, a daily doubl...   \n",
       "4  1984-09-10        In round 1, with a value of 100, a daily doubl...   \n",
       "\n",
       "           created_at  \n",
       "0 2025-05-01 18:17:12  \n",
       "1 2025-05-01 18:17:12  \n",
       "2 2025-05-01 18:17:12  \n",
       "3 2025-05-01 18:17:12  \n",
       "4 2025-05-01 18:17:12  "
      ]
     },
     "execution_count": 5,
     "metadata": {},
     "output_type": "execute_result"
    }
   ],
   "source": [
    "df.head()"
   ]
  },
  {
   "cell_type": "code",
   "execution_count": 6,
   "metadata": {},
   "outputs": [],
   "source": [
    "df1 = pd.DataFrame({'id' : df['id'], 'content': df['string_for_embedding'], 'embedding': embeddings})"
   ]
  },
  {
   "cell_type": "code",
   "execution_count": 7,
   "metadata": {},
   "outputs": [
    {
     "name": "stdout",
     "output_type": "stream",
     "text": [
      "Inserted 20 rows into documents\n"
     ]
    }
   ],
   "source": [
    "postgres.insert_data(df1, table_name = 'documents')"
   ]
  },
  {
   "cell_type": "code",
   "execution_count": 64,
   "metadata": {},
   "outputs": [],
   "source": [
    "prompt = \"What jeopardy questions have been focused around technology, specifically that might use electromagnetic waves?\"\n",
    "embedding = openai.get_embedding(prompt)\n",
    "prompt_vector = '[' + ','.join(map(str, embedding)) + ']'"
   ]
  },
  {
   "cell_type": "code",
   "execution_count": 65,
   "metadata": {},
   "outputs": [],
   "source": [
    "import psycopg2\n",
    "conn = psycopg2.connect(f\"host={postgres.host} dbname={postgres.db_name} user={postgres.user} password={postgres.password}\")\n",
    "cursor = conn.cursor()"
   ]
  },
  {
   "cell_type": "code",
   "execution_count": 66,
   "metadata": {},
   "outputs": [],
   "source": [
    "match_threshold = 0.7\n",
    "match_count = 5"
   ]
  },
  {
   "cell_type": "code",
   "execution_count": 68,
   "metadata": {},
   "outputs": [
    {
     "name": "stdout",
     "output_type": "stream",
     "text": [
      "(5, 'In round 1, with a value of 100, a daily double value of 0, in the category INVENTIONS, the question was Marconis wonderful wireless and the answer was a radio. This was on 1984-09-10.')\n",
      "(7, 'In round 1, with a value of 300, a daily double value of 0, in the category INVENTIONS, the question was A 1920s hunting trip to Canada inspired Birdseyes food preserving method and the answer was freezing. This was on 1984-09-10.')\n",
      "(8, 'In round 1, with a value of 400, a daily double value of 0, in the category INVENTIONS, the question was This fastener gets its name from a brand of galoshes it was used on and the answer was a zipper. This was on 1984-09-10.')\n",
      "(15, 'In round 1, with a value of 200, a daily double value of 0, in the category FOREIGN CUISINE, the question was A British variety is called bangers, a Mexican variety, chorizo and the answer was sausages. This was on 1984-09-10.')\n",
      "(16, 'In round 1, with a value of 300, a daily double value of 0, in the category FOREIGN CUISINE, the question was Jewish crepe filled with cheese and the answer was a blintz. This was on 1984-09-10.')\n"
     ]
    }
   ],
   "source": [
    "cursor = conn.cursor()\n",
    "cursor.execute(\n",
    "    'SELECT id, content '\n",
    "    'FROM documents '\n",
    "    'ORDER BY embedding <=> %(prompt_vector)s LIMIT %(match_cnt)s',\n",
    "    {'prompt_vector': prompt_vector, 'match_threshold': match_threshold, 'match_cnt': match_count}\n",
    "    )\n",
    "result = cursor.fetchall()\n",
    "cursor.close()\n",
    "for row in result:\n",
    "    print(row)"
   ]
  },
  {
   "cell_type": "code",
   "execution_count": null,
   "metadata": {},
   "outputs": [
    {
     "ename": "ProgrammingError",
     "evalue": "no results to fetch",
     "output_type": "error",
     "traceback": [
      "\u001b[0;31m---------------------------------------------------------------------------\u001b[0m",
      "\u001b[0;31mProgrammingError\u001b[0m                          Traceback (most recent call last)",
      "Cell \u001b[0;32mIn[47], line 1\u001b[0m\n\u001b[0;32m----> 1\u001b[0m result \u001b[38;5;241m=\u001b[39m \u001b[43mcursor\u001b[49m\u001b[38;5;241;43m.\u001b[39;49m\u001b[43mfetchall\u001b[49m\u001b[43m(\u001b[49m\u001b[43m)\u001b[49m\n\u001b[1;32m      2\u001b[0m cursor\u001b[38;5;241m.\u001b[39mclose()\n\u001b[1;32m      4\u001b[0m \u001b[38;5;28;01mfor\u001b[39;00m row \u001b[38;5;129;01min\u001b[39;00m result:\n",
      "\u001b[0;31mProgrammingError\u001b[0m: no results to fetch"
     ]
    }
   ],
   "source": [
    "\n",
    "for row in result:\n",
    "    print(row)"
   ]
  },
  {
   "cell_type": "code",
   "execution_count": 63,
   "metadata": {},
   "outputs": [],
   "source": [
    "cursor.close()"
   ]
  },
  {
   "cell_type": "code",
   "execution_count": 58,
   "metadata": {},
   "outputs": [
    {
     "name": "stdout",
     "output_type": "stream",
     "text": [
      "(1, '[1,2,3]')\n",
      "(2, '[4,5,6]')\n"
     ]
    }
   ],
   "source": [
    "for partition in result.partitions():\n",
    "    # partition is an iterable that will be at most 100 items\n",
    "    for row in partition:\n",
    "        print(f\"{row}\")"
   ]
  },
  {
   "cell_type": "code",
   "execution_count": null,
   "metadata": {},
   "outputs": [
    {
     "data": {
      "text/plain": [
       "'In round 1, with a value of 200, a daily double value of 0, in the category LAKES & RIVERS, the question was Scottish word for lake and the answer was loch. This was on 1984-09-10.'"
      ]
     },
     "execution_count": 42,
     "metadata": {},
     "output_type": "execute_result"
    }
   ],
   "source": [
    "query = \"\""
   ]
  },
  {
   "cell_type": "code",
   "execution_count": 5,
   "metadata": {},
   "outputs": [
    {
     "data": {
      "text/plain": [
       "0"
      ]
     },
     "execution_count": 5,
     "metadata": {},
     "output_type": "execute_result"
    }
   ],
   "source": [
    "postgres.get_last_id(table_name = 'jeopardy_embeddings')"
   ]
  },
  {
   "cell_type": "code",
   "execution_count": null,
   "metadata": {},
   "outputs": [],
   "source": [
    "mysql.load_from_last_id(last_id = 354, chunk_size = 20)"
   ]
  }
 ],
 "metadata": {
  "kernelspec": {
   "display_name": ".venv",
   "language": "python",
   "name": "python3"
  },
  "language_info": {
   "codemirror_mode": {
    "name": "ipython",
    "version": 3
   },
   "file_extension": ".py",
   "mimetype": "text/x-python",
   "name": "python",
   "nbconvert_exporter": "python",
   "pygments_lexer": "ipython3",
   "version": "3.9.16"
  }
 },
 "nbformat": 4,
 "nbformat_minor": 2
}
