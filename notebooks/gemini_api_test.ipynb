{
 "cells": [
  {
   "cell_type": "code",
   "execution_count": 4,
   "id": "e190336a-4a0b-4f35-a546-21e325784398",
   "metadata": {},
   "outputs": [],
   "source": [
    "# imports\n",
    "import os\n",
    "from dotenv import load_dotenv\n",
    "from google import genai\n",
    "from IPython.display import Markdown, display, update_display"
   ]
  },
  {
   "cell_type": "code",
   "execution_count": 3,
   "id": "02cf81ac",
   "metadata": {},
   "outputs": [],
   "source": [
    "# Get API key\n",
    "load_dotenv()\n",
    "os.environ['GEMINI_API_KEY'] = os.getenv('GEMINI_API_KEY')"
   ]
  },
  {
   "cell_type": "code",
   "execution_count": 5,
   "id": "b11e4e52",
   "metadata": {},
   "outputs": [],
   "source": [
    "# Connect to client and set model\n",
    "client = genai.Client(api_key = os.environ['GEMINI_API_KEY'])\n",
    "model=\"gemini-2.0-flash\""
   ]
  },
  {
   "cell_type": "code",
   "execution_count": 6,
   "id": "b16ccad7",
   "metadata": {},
   "outputs": [
    {
     "name": "stdout",
     "output_type": "stream",
     "text": [
      "## Benefits of Personal Data Science Projects\n",
      "\n",
      "Personal data science projects are invaluable for aspiring and experienced data scientists alike. They offer a wealth of benefits that can significantly enhance your skills, career prospects, and overall understanding of the field. Here's a breakdown of the key advantages:\n",
      "\n",
      "**1. Practical Skill Development & Application:**\n",
      "\n",
      "* **Hands-on Experience:** Data science is a practical field. Reading about algorithms and concepts is crucial, but applying them to real-world problems is where true learning happens. Personal projects force you to implement the theory you've learned.\n",
      "* **Skill Reinforcement:** Projects solidify your understanding of various data science techniques, from data cleaning and preprocessing to model building, evaluation, and deployment. You'll learn to apply different algorithms in the right context.\n",
      "* **Skill Diversification:**  You can deliberately choose projects to explore new areas of data science that you're unfamiliar with, like time series analysis, NLP, or computer vision. This broadens your skillset and makes you a more versatile data scientist.\n",
      "* **Real-World Problem Solving:** Unlike textbook examples or guided tutorials, personal projects present you with messy, unstructured data and require you to define the problem, select appropriate methods, and interpret the results. This mirrors the challenges faced in professional data science roles.\n",
      "* **Debugging & Troubleshooting:**  Things will inevitably go wrong. Projects force you to debug code, handle errors, and find solutions independently, which is a crucial skill in data science.\n",
      "* **Tool Familiarity:**  You'll gain hands-on experience with various data science tools and libraries like Python (Pandas, NumPy, Scikit-learn, TensorFlow, PyTorch), R, SQL, and cloud platforms (AWS, Azure, GCP).\n",
      "\n",
      "**2. Portfolio Building & Demonstration of Skills:**\n",
      "\n",
      "* **Tangible Evidence of Competence:** A portfolio of well-executed personal projects demonstrates your abilities to potential employers far more effectively than a resume listing skills.\n",
      "* **Showcase Your Creativity and Problem-Solving:** Projects allow you to showcase your creativity, problem-solving skills, and ability to work independently.  They offer a deeper understanding of your abilities than simply listing skills on a resume.\n",
      "* **Differentiator in the Job Market:** The data science job market is competitive. A strong portfolio can differentiate you from other candidates who may have similar academic backgrounds but lack practical experience.\n",
      "* **Demonstrate Your Passion:**  Personal projects show a genuine interest in data science and a willingness to learn and apply your knowledge outside of coursework or formal employment.\n",
      "* **Opportunity to Showcase Different Skillsets:**  Each project can highlight a different skill set. For example, one project might focus on data visualization, while another showcases your ability to build a complex machine learning model.\n",
      "\n",
      "**3. Enhanced Learning and Growth:**\n",
      "\n",
      "* **Deepened Understanding:**  By actively applying concepts, you gain a deeper understanding of their nuances and limitations.  You'll learn when to use a particular algorithm and why it works (or doesn't work) in a given scenario.\n",
      "* **Personalized Learning:** You can tailor projects to your specific interests and learning goals. This makes the learning process more engaging and effective.\n",
      "* **Continuous Improvement:**  As you work on projects, you'll identify areas where you need to improve your skills. This motivates you to learn new techniques and stay up-to-date with the latest advancements in the field.\n",
      "* **Develop Data Intuition:** You start developing an intuition for data. You become better at recognizing patterns, identifying outliers, and understanding the underlying meaning of data.\n",
      "\n",
      "**4. Career Advancement & Networking:**\n",
      "\n",
      "* **Improved Job Prospects:** A strong portfolio significantly improves your chances of landing a data science job, internship, or promotion.\n",
      "* **Discussion Points in Interviews:** Projects provide concrete examples of your work that you can discuss in interviews.  You can talk about the challenges you faced, the solutions you implemented, and the lessons you learned.\n",
      "* **Networking Opportunities:**  Sharing your projects on platforms like GitHub or personal websites can attract the attention of other data scientists and potential employers.\n",
      "* **Confidence Building:** Successfully completing personal projects builds confidence in your abilities, making you a more effective and confident data scientist.\n",
      "\n",
      "**5. Exploration & Experimentation:**\n",
      "\n",
      "* **Risk-Free Environment:** Personal projects provide a safe space to experiment with new technologies, algorithms, and techniques without the pressure of professional deadlines or client expectations.\n",
      "* **No Constraints (Usually):** You can explore unconventional approaches and try things that might not be possible in a corporate setting. This fosters creativity and innovation.\n",
      "* **Learn From Mistakes:**  Mistakes are inevitable, but they are valuable learning opportunities. Personal projects allow you to learn from your mistakes without significant consequences.\n",
      "\n",
      "**In conclusion, personal data science projects are a crucial investment in your future. They provide hands-on experience, demonstrate your skills, enhance your learning, and improve your career prospects. So, find a project that interests you, embrace the challenges, and start building your data science portfolio today!**\n",
      "\n"
     ]
    }
   ],
   "source": [
    "test_string = \"Explain the benefits of doing personal projects, specifically in data science.\"\n",
    "response = client.models.generate_content(model = model, contents = test_string)\n",
    "print(response.text)"
   ]
  },
  {
   "cell_type": "code",
   "execution_count": null,
   "id": "4366d131",
   "metadata": {},
   "outputs": [],
   "source": []
  }
 ],
 "metadata": {
  "kernelspec": {
   "display_name": ".venv",
   "language": "python",
   "name": "python3"
  },
  "language_info": {
   "codemirror_mode": {
    "name": "ipython",
    "version": 3
   },
   "file_extension": ".py",
   "mimetype": "text/x-python",
   "name": "python",
   "nbconvert_exporter": "python",
   "pygments_lexer": "ipython3",
   "version": "3.9.16"
  }
 },
 "nbformat": 4,
 "nbformat_minor": 5
}
