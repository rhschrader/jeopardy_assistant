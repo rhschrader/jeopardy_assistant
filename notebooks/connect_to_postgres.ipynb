{
 "cells": [
  {
   "cell_type": "code",
   "execution_count": 6,
   "metadata": {},
   "outputs": [
    {
     "name": "stdout",
     "output_type": "stream",
     "text": [
      "   count\n",
      "0  21800\n"
     ]
    }
   ],
   "source": [
    "from sqlalchemy import create_engine\n",
    "import pandas as pd\n",
    "from dotenv import load_dotenv\n",
    "import os\n",
    "import sys\n",
    "sys.path.append(\"../functions\")  # Add parent directory to path\n",
    "from connect_openai_api import connect_to_openai_client\n",
    "# === Load environment variables from .env file ===\n",
    "load_dotenv()\n",
    "\n",
    "# === Set up database connection parameters ===\n",
    "user = os.getenv(\"POSTGRES_USER\")\n",
    "password = os.getenv(\"POSTGRES_PASSWORD\")\n",
    "host = os.getenv(\"POSTGRES_HOST\")\n",
    "name = os.getenv(\"POSTGRES_NAME\")\n",
    "port = os.getenv(\"POSTGRES_PORT\")\n",
    "\n",
    "# === Create SQLAlchemy engine ===\n",
    "engine = create_engine(f\"postgresql+psycopg2://{user}:{password}@{host}:{port}/{name}\")\n",
    "\n",
    "# === Test connection: Read table or query ===\n",
    "query = \"SELECT count(*) from vectors;\"\n",
    "df = pd.read_sql(query, engine)\n",
    "\n",
    "print(df.head())\n"
   ]
  },
  {
   "cell_type": "code",
   "execution_count": 24,
   "metadata": {},
   "outputs": [],
   "source": [
    "df['embedding'] = df['embedding'].apply(\n",
    "    lambda s: [float(x) for x in s.strip('{}').split(',')]\n",
    ")"
   ]
  },
  {
   "cell_type": "code",
   "execution_count": null,
   "metadata": {},
   "outputs": [],
   "source": []
  },
  {
   "cell_type": "code",
   "execution_count": 7,
   "metadata": {},
   "outputs": [
    {
     "name": "stdout",
     "output_type": "stream",
     "text": [
      "Connected to OpenAI API client successfully.\n"
     ]
    }
   ],
   "source": [
    "from openai import OpenAI\n",
    "client = connect_to_openai_client()\n",
    "response = client.embeddings.create(\n",
    "    input = \"What is the capital of France?\",\n",
    "    model=\"text-embedding-3-small\"\n",
    ")"
   ]
  },
  {
   "cell_type": "code",
   "execution_count": 22,
   "metadata": {},
   "outputs": [],
   "source": [
    "response.data[0].embedding\n",
    "query = f\"SELECT * FROM vectors ORDER BY embedding = '{response.data[0].embedding}' LIMIT 1;\""
   ]
  },
  {
   "cell_type": "code",
   "execution_count": 23,
   "metadata": {},
   "outputs": [
    {
     "data": {
      "text/html": [
       "<div>\n",
       "<style scoped>\n",
       "    .dataframe tbody tr th:only-of-type {\n",
       "        vertical-align: middle;\n",
       "    }\n",
       "\n",
       "    .dataframe tbody tr th {\n",
       "        vertical-align: top;\n",
       "    }\n",
       "\n",
       "    .dataframe thead th {\n",
       "        text-align: right;\n",
       "    }\n",
       "</style>\n",
       "<table border=\"1\" class=\"dataframe\">\n",
       "  <thead>\n",
       "    <tr style=\"text-align: right;\">\n",
       "      <th></th>\n",
       "      <th>id</th>\n",
       "      <th>qa_text</th>\n",
       "      <th>embedding</th>\n",
       "    </tr>\n",
       "  </thead>\n",
       "  <tbody>\n",
       "    <tr>\n",
       "      <th>0</th>\n",
       "      <td>2301</td>\n",
       "      <td>In round 2, with a value of 400, a daily doubl...</td>\n",
       "      <td>{0.055482495576143265,0.01343670766800642,0.02...</td>\n",
       "    </tr>\n",
       "  </tbody>\n",
       "</table>\n",
       "</div>"
      ],
      "text/plain": [
       "     id                                            qa_text  \\\n",
       "0  2301  In round 2, with a value of 400, a daily doubl...   \n",
       "\n",
       "                                           embedding  \n",
       "0  {0.055482495576143265,0.01343670766800642,0.02...  "
      ]
     },
     "execution_count": 23,
     "metadata": {},
     "output_type": "execute_result"
    }
   ],
   "source": [
    "df = pd.read_sql(query, engine)\n",
    "df.head()"
   ]
  },
  {
   "cell_type": "code",
   "execution_count": 24,
   "metadata": {},
   "outputs": [
    {
     "name": "stdout",
     "output_type": "stream",
     "text": [
      "In round 2, with a value of 400, a daily double value of 0, in the category ZOOLOGY, the question was From Latin to gnaw, there are more of this group than all other mammals combined and the answer was rodents. This was on 1984-12-05.\n"
     ]
    }
   ],
   "source": [
    "print(df['qa_text'].values[0])"
   ]
  },
  {
   "cell_type": "code",
   "execution_count": 25,
   "metadata": {},
   "outputs": [
    {
     "data": {
      "text/plain": [
       "1536"
      ]
     },
     "execution_count": 25,
     "metadata": {},
     "output_type": "execute_result"
    }
   ],
   "source": [
    "len(response.data[0].embedding)"
   ]
  },
  {
   "cell_type": "code",
   "execution_count": null,
   "metadata": {},
   "outputs": [],
   "source": [
    "import openai\n",
    "import psycopg2\n",
    "import numpy as np\n",
    "\n",
    "# Set up OpenAI API (replace with your actual API key)\n",
    "openai.api_key = \"your_openai_api_key\"\n",
    "\n",
    "# Connect to the database\n",
    "conn = psycopg2.connect(\"dbname=your_database user=your_username\")\n",
    "cur = conn.cursor()\n",
    "\n",
    "# Create a table for our documents\n",
    "cur.execute(\"\"\"\n",
    "    CREATE TABLE IF NOT EXISTS documents (\n",
    "        id SERIAL PRIMARY KEY,\n",
    "        content TEXT,\n",
    "        embedding vector(1536)\n",
    "    )\n",
    "\"\"\")\n",
    "\n",
    "# Function to get embeddings from OpenAI\n",
    "def get_embedding(text):\n",
    "    response = openai.embeddings.create(input=text, model=\"text-embedding-ada-002\")\n",
    "    return response['data'][0]['embedding']\n",
    "\n",
    "# Function to add a document\n",
    "def add_document(content):\n",
    "    embedding = get_embedding(content)\n",
    "    cur.execute(\"INSERT INTO documents (content, embedding) VALUES (%s, %s)\", (content, embedding))\n",
    "    conn.commit()\n",
    "\n",
    "# Function to search for similar documents\n",
    "def search_documents(query, limit=5):\n",
    "    query_embedding = get_embedding(query)\n",
    "    cur.execute(\"\"\"\n",
    "        SELECT content, embedding <-> %s AS distance\n",
    "        FROM documents\n",
    "        ORDER BY distance\n",
    "        LIMIT %s\n",
    "    \"\"\", (query_embedding, limit))\n",
    "    return cur.fetchall()\n",
    "\n",
    "# Add some sample documents\n",
    "sample_docs = [\n",
    "    \"The quick brown fox jumps over the lazy dog.\",\n",
    "    \"Python is a high-level programming language.\",\n",
    "    \"Vector databases are essential for modern AI applications.\",\n",
    "    \"PostgreSQL is a powerful open-source relational database.\",\n",
    "]\n",
    "for doc in sample_docs:\n",
    "    add_document(doc)\n",
    "\n",
    "# Perform a search\n",
    "search_query = \"Tell me about programming languages\"\n",
    "results = search_documents(search_query)\n",
    "print(f\"Search results for: '{search_query}'\")\n",
    "for i, (content, distance) in enumerate(results, 1):\n",
    "    print(f\"{i}. {content} (Distance: {distance:.4f})\")\n",
    "\n",
    "# Clean up\n",
    "cur.close()\n",
    "conn.close()"
   ]
  }
 ],
 "metadata": {
  "kernelspec": {
   "display_name": ".venv",
   "language": "python",
   "name": "python3"
  },
  "language_info": {
   "codemirror_mode": {
    "name": "ipython",
    "version": 3
   },
   "file_extension": ".py",
   "mimetype": "text/x-python",
   "name": "python",
   "nbconvert_exporter": "python",
   "pygments_lexer": "ipython3",
   "version": "3.9.16"
  }
 },
 "nbformat": 4,
 "nbformat_minor": 2
}
