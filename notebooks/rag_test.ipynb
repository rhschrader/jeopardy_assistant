{
 "cells": [
  {
   "cell_type": "markdown",
   "metadata": {},
   "source": [
    "# Imports"
   ]
  },
  {
   "cell_type": "code",
   "execution_count": 1,
   "metadata": {},
   "outputs": [],
   "source": [
    "import sys\n",
    "sys.path.insert(1, '../functions')\n",
    "import pandas as pd\n",
    "from openai_functions import OpenAI_Client\n",
    "from db_functions import MySQL, PostGreSQL"
   ]
  },
  {
   "cell_type": "markdown",
   "metadata": {},
   "source": [
    "# Connections to the database and OpenAI client"
   ]
  },
  {
   "cell_type": "code",
   "execution_count": 2,
   "metadata": {},
   "outputs": [
    {
     "ename": "NameError",
     "evalue": "name 'psycopg2' is not defined",
     "output_type": "error",
     "traceback": [
      "\u001b[0;31m---------------------------------------------------------------------------\u001b[0m",
      "\u001b[0;31mNameError\u001b[0m                                 Traceback (most recent call last)",
      "Cell \u001b[0;32mIn[2], line 3\u001b[0m\n\u001b[1;32m      1\u001b[0m openai_client \u001b[38;5;241m=\u001b[39m OpenAI_Client()\n\u001b[1;32m      2\u001b[0m mysql \u001b[38;5;241m=\u001b[39m MySQL()\n\u001b[0;32m----> 3\u001b[0m postgres \u001b[38;5;241m=\u001b[39m \u001b[43mPostGreSQL\u001b[49m\u001b[43m(\u001b[49m\u001b[43mcreate_psycopg2_connection\u001b[49m\u001b[38;5;241;43m=\u001b[39;49m\u001b[38;5;28;43;01mTrue\u001b[39;49;00m\u001b[43m)\u001b[49m\n",
      "File \u001b[0;32m~/Desktop/ds_prep/jeopardy_assistant/notebooks/../functions/db_functions.py:133\u001b[0m, in \u001b[0;36mPostGreSQL.__init__\u001b[0;34m(self, table_name, create_psycopg2_connection)\u001b[0m\n\u001b[1;32m    131\u001b[0m \u001b[38;5;66;03m# create a psycopg2 connection\u001b[39;00m\n\u001b[1;32m    132\u001b[0m \u001b[38;5;28;01mif\u001b[39;00m create_psycopg2_connection:\n\u001b[0;32m--> 133\u001b[0m     \u001b[38;5;28mself\u001b[39m\u001b[38;5;241m.\u001b[39mconnection \u001b[38;5;241m=\u001b[39m \u001b[43mpsycopg2\u001b[49m\u001b[38;5;241m.\u001b[39mconnect(\n\u001b[1;32m    134\u001b[0m         dbname\u001b[38;5;241m=\u001b[39m\u001b[38;5;28mself\u001b[39m\u001b[38;5;241m.\u001b[39mdb_name,\n\u001b[1;32m    135\u001b[0m         user\u001b[38;5;241m=\u001b[39m\u001b[38;5;28mself\u001b[39m\u001b[38;5;241m.\u001b[39muser,\n\u001b[1;32m    136\u001b[0m         password\u001b[38;5;241m=\u001b[39m\u001b[38;5;28mself\u001b[39m\u001b[38;5;241m.\u001b[39mpassword,\n\u001b[1;32m    137\u001b[0m         host\u001b[38;5;241m=\u001b[39m\u001b[38;5;28mself\u001b[39m\u001b[38;5;241m.\u001b[39mhost,\n\u001b[1;32m    138\u001b[0m     )\n",
      "\u001b[0;31mNameError\u001b[0m: name 'psycopg2' is not defined"
     ]
    }
   ],
   "source": [
    "openai_client = OpenAI_Client()\n",
    "mysql = MySQL()\n",
    "postgres = PostGreSQL(create_psycopg2_connection=True)"
   ]
  },
  {
   "cell_type": "code",
   "execution_count": 3,
   "metadata": {},
   "outputs": [],
   "source": [
    "def get_user_query(prompt = \"Enter your query: \"):\n",
    "    user_query = input(\"Enter your query: \")\n",
    "    if user_query.lower() == 'exit':\n",
    "        print(\"Exiting...\")\n",
    "        sys.exit()\n",
    "    return user_query"
   ]
  },
  {
   "cell_type": "code",
   "execution_count": 5,
   "metadata": {},
   "outputs": [
    {
     "ename": "AttributeError",
     "evalue": "'PostGreSQL' object has no attribute 'connection'",
     "output_type": "error",
     "traceback": [
      "\u001b[0;31m---------------------------------------------------------------------------\u001b[0m",
      "\u001b[0;31mAttributeError\u001b[0m                            Traceback (most recent call last)",
      "Cell \u001b[0;32mIn[5], line 6\u001b[0m\n\u001b[1;32m      3\u001b[0m embedding \u001b[38;5;241m=\u001b[39m openai_client\u001b[38;5;241m.\u001b[39mget_embedding(user_query)\n\u001b[1;32m      4\u001b[0m prompt_vector \u001b[38;5;241m=\u001b[39m \u001b[38;5;124m'\u001b[39m\u001b[38;5;124m[\u001b[39m\u001b[38;5;124m'\u001b[39m \u001b[38;5;241m+\u001b[39m \u001b[38;5;124m'\u001b[39m\u001b[38;5;124m,\u001b[39m\u001b[38;5;124m'\u001b[39m\u001b[38;5;241m.\u001b[39mjoin(\u001b[38;5;28mmap\u001b[39m(\u001b[38;5;28mstr\u001b[39m, embedding)) \u001b[38;5;241m+\u001b[39m \u001b[38;5;124m'\u001b[39m\u001b[38;5;124m]\u001b[39m\u001b[38;5;124m'\u001b[39m\n\u001b[0;32m----> 6\u001b[0m results \u001b[38;5;241m=\u001b[39m \u001b[43mpostgres\u001b[49m\u001b[38;5;241;43m.\u001b[39;49m\u001b[43mcosine_search\u001b[49m\u001b[43m(\u001b[49m\u001b[43mprompt_vector\u001b[49m\u001b[43m \u001b[49m\u001b[38;5;241;43m=\u001b[39;49m\u001b[43m \u001b[49m\u001b[43mprompt_vector\u001b[49m\u001b[43m)\u001b[49m\n\u001b[1;32m      8\u001b[0m \u001b[38;5;28;01mfor\u001b[39;00m row \u001b[38;5;129;01min\u001b[39;00m results:\n\u001b[1;32m      9\u001b[0m     \u001b[38;5;28mprint\u001b[39m(row)\n",
      "File \u001b[0;32m~/Desktop/ds_prep/jeopardy_assistant/notebooks/../functions/db_functions.py:213\u001b[0m, in \u001b[0;36mPostGreSQL.cosine_search\u001b[0;34m(self, prompt_vector, table_name, match_count, match_threshold)\u001b[0m\n\u001b[1;32m    211\u001b[0m \u001b[38;5;28;01mif\u001b[39;00m table_name \u001b[38;5;129;01mis\u001b[39;00m \u001b[38;5;28;01mNone\u001b[39;00m:\n\u001b[1;32m    212\u001b[0m     table_name \u001b[38;5;241m=\u001b[39m \u001b[38;5;28mself\u001b[39m\u001b[38;5;241m.\u001b[39mtable_name\n\u001b[0;32m--> 213\u001b[0m \u001b[38;5;28;01mwith\u001b[39;00m \u001b[38;5;28;43mself\u001b[39;49m\u001b[38;5;241;43m.\u001b[39;49m\u001b[43mconnection\u001b[49m\u001b[38;5;241m.\u001b[39mcursor() \u001b[38;5;28;01mas\u001b[39;00m cursor:\n\u001b[1;32m    214\u001b[0m     \u001b[38;5;28;01mtry\u001b[39;00m:\n\u001b[1;32m    215\u001b[0m         cursor\u001b[38;5;241m.\u001b[39mexecute(\n\u001b[1;32m    216\u001b[0m             \u001b[38;5;124m'\u001b[39m\u001b[38;5;124mSELECT id, content \u001b[39m\u001b[38;5;124m'\u001b[39m\n\u001b[1;32m    217\u001b[0m             \u001b[38;5;124m'\u001b[39m\u001b[38;5;124mFROM \u001b[39m\u001b[38;5;132;01m%(table_name)s\u001b[39;00m\u001b[38;5;124m WHERE 1 - (embedding <=> \u001b[39m\u001b[38;5;132;01m%(prompt_vector)s\u001b[39;00m\u001b[38;5;124m) >= \u001b[39m\u001b[38;5;132;01m%(match_threshold)s\u001b[39;00m\u001b[38;5;124m \u001b[39m\u001b[38;5;124m'\u001b[39m\n\u001b[1;32m    218\u001b[0m             \u001b[38;5;124m'\u001b[39m\u001b[38;5;124mORDER BY overview_vector <=> \u001b[39m\u001b[38;5;132;01m%(prompt_vector)s\u001b[39;00m\u001b[38;5;124m LIMIT \u001b[39m\u001b[38;5;132;01m%(match_count)s\u001b[39;00m\u001b[38;5;124m'\u001b[39m,\n\u001b[1;32m    219\u001b[0m             {\u001b[38;5;124m'\u001b[39m\u001b[38;5;124mtable_name\u001b[39m\u001b[38;5;124m'\u001b[39m: table_name, \u001b[38;5;124m'\u001b[39m\u001b[38;5;124mprompt_vector\u001b[39m\u001b[38;5;124m'\u001b[39m: prompt_vector, \u001b[38;5;124m'\u001b[39m\u001b[38;5;124mmatch_threshold\u001b[39m\u001b[38;5;124m'\u001b[39m: match_threshold, \u001b[38;5;124m'\u001b[39m\u001b[38;5;124mmatch_count\u001b[39m\u001b[38;5;124m'\u001b[39m: match_count}\n\u001b[1;32m    220\u001b[0m             )\n",
      "\u001b[0;31mAttributeError\u001b[0m: 'PostGreSQL' object has no attribute 'connection'"
     ]
    }
   ],
   "source": [
    "#user_query = get_user_query()\n",
    "user_query = \"What is the capital of the largest country in Europe?\"\n",
    "embedding = openai_client.get_embedding(user_query)\n",
    "prompt_vector = '[' + ','.join(map(str, embedding)) + ']'\n",
    "\n",
    "results = postgres.cosine_search(prompt_vector = prompt_vector)\n",
    "\n",
    "for row in results:\n",
    "    print(row)\n"
   ]
  },
  {
   "cell_type": "code",
   "execution_count": null,
   "metadata": {},
   "outputs": [],
   "source": []
  }
 ],
 "metadata": {
  "kernelspec": {
   "display_name": ".venv",
   "language": "python",
   "name": "python3"
  },
  "language_info": {
   "codemirror_mode": {
    "name": "ipython",
    "version": 3
   },
   "file_extension": ".py",
   "mimetype": "text/x-python",
   "name": "python",
   "nbconvert_exporter": "python",
   "pygments_lexer": "ipython3",
   "version": "3.9.16"
  }
 },
 "nbformat": 4,
 "nbformat_minor": 2
}
