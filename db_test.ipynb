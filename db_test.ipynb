{
 "cells": [
  {
   "cell_type": "code",
   "execution_count": 4,
   "metadata": {},
   "outputs": [
    {
     "name": "stdout",
     "output_type": "stream",
     "text": [
      "Collecting mysql-connector\n",
      "  Using cached mysql-connector-2.2.9.tar.gz (11.9 MB)\n",
      "  Preparing metadata (setup.py) ... \u001b[?25ldone\n",
      "\u001b[?25hUsing legacy 'setup.py install' for mysql-connector, since package 'wheel' is not installed.\n",
      "Installing collected packages: mysql-connector\n",
      "  Running setup.py install for mysql-connector ... \u001b[?25ldone\n",
      "\u001b[?25hSuccessfully installed mysql-connector-2.2.9\n",
      "\u001b[33mWARNING: You are using pip version 22.0.4; however, version 25.0.1 is available.\n",
      "You should consider upgrading via the '/Users/rossschrader/Desktop/ML/ml_env/bin/python -m pip install --upgrade pip' command.\u001b[0m\u001b[33m\n",
      "\u001b[0mNote: you may need to restart the kernel to use updated packages.\n"
     ]
    }
   ],
   "source": [
    "pip install mysql-connector"
   ]
  },
  {
   "cell_type": "code",
   "execution_count": 1,
   "metadata": {},
   "outputs": [],
   "source": [
    "from dotenv import load_dotenv\n",
    "import os\n",
    "\n",
    "load_dotenv()\n",
    "\n",
    "host = os.getenv(\"DB_HOST\")\n",
    "user = os.getenv(\"DB_USER\")\n",
    "password = os.getenv(\"DB_PASSWORD\")\n",
    "database = os.getenv(\"DB_NAME\")"
   ]
  },
  {
   "cell_type": "code",
   "execution_count": 3,
   "metadata": {},
   "outputs": [
    {
     "name": "stdout",
     "output_type": "stream",
     "text": [
      "jeopardy-1.c1g6qw4g8paq.us-east-2.rds.amazonaws.com\n"
     ]
    }
   ],
   "source": [
    "print(host)"
   ]
  },
  {
   "cell_type": "code",
   "execution_count": 9,
   "metadata": {},
   "outputs": [],
   "source": [
    "# scripts/setup_db.py\n",
    "\n",
    "import mysql.connector\n",
    "from mysql.connector import Error\n",
    "\n",
    "def create_connection(host, user, password, database):\n",
    "    try:\n",
    "        conn = mysql.connector.connect(\n",
    "        )\n",
    "        if conn.is_connected():\n",
    "            print(\"Connected to MySQL database\")\n",
    "        return conn\n",
    "    except Error as e:\n",
    "        print(f\"Error: {e}\")\n",
    "        return None\n",
    "\n",
    "def create_schema(conn):\n",
    "    cursor = conn.cursor()\n",
    "    \n",
    "    create_table_query = \"\"\"\n",
    "    CREATE TABLE IF NOT EXISTS qa_pairs (\n",
    "        id INT AUTO_INCREMENT PRIMARY KEY,\n",
    "        question TEXT NOT NULL,\n",
    "        answer TEXT NOT NULL,\n",
    "        embedding BLOB\n",
    "    );\n",
    "    \"\"\"\n",
    "    try:\n",
    "        cursor.execute(create_table_query)\n",
    "        conn.commit()\n",
    "        print(\"Schema created successfully.\")\n",
    "    except Error as e:\n",
    "        print(f\"Error creating schema: {e}\")\n",
    "    finally:\n",
    "        cursor.close()\n",
    "\n",
    "if __name__ == \"__main__\":\n",
    "    connection = create_connection(host, user, password, database)\n",
    "    #if connection:\n",
    "    #    create_schema(connection)\n",
    "    connection.close()\n"
   ]
  },
  {
   "cell_type": "code",
   "execution_count": 11,
   "metadata": {},
   "outputs": [],
   "source": [
    "connect = create_connection(host, user, password, database)"
   ]
  },
  {
   "cell_type": "code",
   "execution_count": 31,
   "metadata": {},
   "outputs": [
    {
     "name": "stdout",
     "output_type": "stream",
     "text": [
      "Connected to MySQL server version 8.0.40\n",
      "You're connected to database: None\n",
      "MySQL connection is closed.\n"
     ]
    }
   ],
   "source": [
    "import os\n",
    "from dotenv import load_dotenv\n",
    "import mysql.connector\n",
    "from mysql.connector import Error\n",
    "\n",
    "# Load environment variables\n",
    "load_dotenv()\n",
    "\n",
    "def test_connection():\n",
    "    try:\n",
    "        connection = mysql.connector.connect(\n",
    "            host=os.getenv(\"DB_HOST\"),\n",
    "            user=os.getenv(\"DB_USER\"),\n",
    "            password=os.getenv(\"DB_PASSWORD\"),\n",
    "            #database=os.getenv(\"DB_NAME\")\n",
    "        )\n",
    "        if connection.is_connected():\n",
    "            db_info = connection.get_server_info()\n",
    "            print(f\"Connected to MySQL server version {db_info}\")\n",
    "            cursor = connection.cursor()\n",
    "            cursor.execute(\"SELECT DATABASE();\")\n",
    "            record = cursor.fetchone()\n",
    "            print(f\"You're connected to database: {record[0]}\")\n",
    "            cursor.close()\n",
    "        else:\n",
    "            print(\"Not connected to the database.\")\n",
    "    except Error as e:\n",
    "        print(f\"Error while connecting to MySQL: {e}\")\n",
    "    finally:\n",
    "        if 'connection' in locals() and connection.is_connected():\n",
    "            connection.close()\n",
    "            print(\"MySQL connection is closed.\")\n",
    "test_connection()"
   ]
  },
  {
   "cell_type": "code",
   "execution_count": 26,
   "metadata": {},
   "outputs": [],
   "source": [
    "load_dotenv()\n",
    "\n",
    "connection = mysql.connector.connect(\n",
    "            host=os.getenv(\"DB_HOST\"),\n",
    "            user=os.getenv(\"DB_USER\"),\n",
    "            password=os.getenv(\"DB_PASSWORD\"),\n",
    "            #database=os.getenv(\"DB_NAME\")\n",
    "            )"
   ]
  },
  {
   "cell_type": "code",
   "execution_count": 28,
   "metadata": {},
   "outputs": [],
   "source": [
    "connection.close()"
   ]
  },
  {
   "cell_type": "code",
   "execution_count": null,
   "metadata": {},
   "outputs": [],
   "source": []
  }
 ],
 "metadata": {
  "kernelspec": {
   "display_name": "ml_env",
   "language": "python",
   "name": "python3"
  },
  "language_info": {
   "codemirror_mode": {
    "name": "ipython",
    "version": 3
   },
   "file_extension": ".py",
   "mimetype": "text/x-python",
   "name": "python",
   "nbconvert_exporter": "python",
   "pygments_lexer": "ipython3",
   "version": "3.9.16"
  }
 },
 "nbformat": 4,
 "nbformat_minor": 2
}
